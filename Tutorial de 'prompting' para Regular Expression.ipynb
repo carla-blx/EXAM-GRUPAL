{
 "cells": [
  {
   "cell_type": "markdown",
   "id": "ab7136ac",
   "metadata": {},
   "source": [
    "Consideramos que antes de crear prompts para expresiones regulares, es importante tener un conocimiento básico de estas herramientas, que son fundamentales para la manipulación de texto."
   ]
  },
  {
   "cell_type": "markdown",
   "id": "cc40424e",
   "metadata": {},
   "source": [
    "# ¿Que son las expresiones regulares y para que sirven?"
   ]
  },
  {
   "cell_type": "markdown",
   "id": "21e6298f",
   "metadata": {},
   "source": [
    "Las expresiones regulares son patrones de búsqueda utilizados para buscar y manipular texto en cadenas de caracteres. Son una secuencia de caracteres que define un conjunto de reglas para buscar, validar y extraer información dentro de un texto.\n",
    "Las expresiones regulares se utilizan ampliamente en programación y en el procesamiento de texto para realizar tareas como la validación de datos, el filtrado de información, la búsqueda y sustitución de cadenas, entre otros.\n",
    "Estos patrones permiten buscar y manipular información de manera eficiente y flexible, ya que se pueden especificar reglas y criterios muy específicos para encontrar coincidencias en el texto. Por ejemplo, se pueden buscar palabras que comiencen con una determinada letra, encontrar números de teléfono en un formato específico, validar direcciones de correo electrónico, entre muchas otras aplicaciones.\n",
    "En resumen, las expresiones regulares son una herramienta poderosa para buscar y manipular texto de manera eficiente y precisa, permitiendo realizar tareas de procesamiento de texto de forma más rápida y precisa en programación y otras aplicaciones.\n",
    "\n",
    "Aquí se muestra una explicación de los signos más comunes utilizados en las expresiones regulares junto con ejemplos sencillos para cada uno:\n",
    "\n"
   ]
  },
  {
   "cell_type": "markdown",
   "id": "2c0b357b",
   "metadata": {},
   "source": [
    "`^` : Coincide con el inicio de una cadena.\n",
    "\n",
    "$Ejemplo$: ^Hola coincidiría con \"Hola, ¿cómo estás?\" pero no con \"¿Hola, cómo estás?\", ya que el inicio de esta cadena es “¿” .\n",
    "\n"
   ]
  },
  {
   "attachments": {},
   "cell_type": "markdown",
   "id": "323ed645",
   "metadata": {},
   "source": [
    "`$` : Coincide con el final de una cadena.\n",
    "\n",
    "$Ejemplo$: mundo$ coincidiría con \"Hola mundo\" pero no con \"¡Hola mundo, cómo estás?\", yaque “mundo” no esta al final.\n"
   ]
  },
  {
   "attachments": {},
   "cell_type": "markdown",
   "id": "b950afd6",
   "metadata": {},
   "source": [
    "`.` : Coincide con cualquier carácter, excepto una nueva línea.\n",
    "\n",
    "$Ejemplo$: a.c coincidiría con \"abc\", \"adc\", \"axc\", etc., pero no con \"ac\" ni \"a\\n\\nc\".\n"
   ]
  },
  {
   "cell_type": "markdown",
   "id": "c8a11281",
   "metadata": {},
   "source": [
    "`*` - Coincide con cero o más repeticiones del elemento anterior.\n",
    "\n",
    "$Ejemplo$: a*b coincidiría con \"b\", \"ab\", \"aab\", \"aaab\", etc.\n"
   ]
  },
  {
   "cell_type": "code",
   "execution_count": null,
   "id": "460320d7",
   "metadata": {},
   "outputs": [],
   "source": []
  }
 ],
 "metadata": {
  "kernelspec": {
   "display_name": "Python 3 (ipykernel)",
   "language": "python",
   "name": "python3"
  },
  "language_info": {
   "codemirror_mode": {
    "name": "ipython",
    "version": 3
   },
   "file_extension": ".py",
   "mimetype": "text/x-python",
   "name": "python",
   "nbconvert_exporter": "python",
   "pygments_lexer": "ipython3",
   "version": "3.9.12"
  }
 },
 "nbformat": 4,
 "nbformat_minor": 5
}
