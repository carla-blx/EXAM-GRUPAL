{
 "cells": [
  {
   "cell_type": "markdown",
   "id": "acdb5d4f",
   "metadata": {},
   "source": [
    "Consideramos que antes de crear prompts para expresiones regulares, es importante tener un conocimiento básico de estas herramientas, que son fundamentales para la manipulación de texto."
   ]
  },
  {
   "cell_type": "markdown",
   "id": "c30ec19b",
   "metadata": {},
   "source": [
    "# ¿Que son las expresiones regulares y para que sirven?"
   ]
  },
  {
   "cell_type": "markdown",
   "id": "86767bc1",
   "metadata": {},
   "source": []
  }
 ],
 "metadata": {
  "kernelspec": {
   "display_name": "Python 3 (ipykernel)",
   "language": "python",
   "name": "python3"
  },
  "language_info": {
   "codemirror_mode": {
    "name": "ipython",
    "version": 3
   },
   "file_extension": ".py",
   "mimetype": "text/x-python",
   "name": "python",
   "nbconvert_exporter": "python",
   "pygments_lexer": "ipython3",
   "version": "3.9.12"
  }
 },
 "nbformat": 4,
 "nbformat_minor": 5
}
