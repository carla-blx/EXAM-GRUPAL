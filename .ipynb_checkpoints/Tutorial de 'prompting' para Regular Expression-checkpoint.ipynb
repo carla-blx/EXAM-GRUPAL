{
 "cells": [
  {
   "cell_type": "markdown",
   "id": "8b7d00a4",
   "metadata": {},
   "source": [
    "# <b><span style=\"color:#C21611;\">TUTORIAL DE 'PROMPTING' PARA EXPRESIONES REGULARES</span><b>"
   ]
  },
  {
   "cell_type": "markdown",
   "id": "ab7136ac",
   "metadata": {},
   "source": [
    "Consideramos que antes de crear prompts para expresiones regulares, es importante tener un conocimiento básico de estas herramientas, que son fundamentales para la manipulación de texto."
   ]
  },
  {
   "cell_type": "markdown",
   "id": "cc40424e",
   "metadata": {},
   "source": [
    "## <span style=\"color:#1557D1;\">¿Que son las expresiones regulares y para que sirven?</span><b>"
   ]
  },
  {
   "cell_type": "markdown",
   "id": "21e6298f",
   "metadata": {},
   "source": [
    "Las expresiones regulares son patrones de búsqueda utilizados para buscar y manipular texto en cadenas de caracteres. Son una secuencia de caracteres que define un conjunto de reglas para buscar, validar y extraer información dentro de un texto.\n",
    "Las expresiones regulares se utilizan ampliamente en programación y en el procesamiento de texto para realizar tareas como la validación de datos, el filtrado de información, la búsqueda y sustitución de cadenas, entre otros.\n",
    "Aquí se muestra una explicación de algunos de los signos más comunes utilizados en las expresiones regulares junto con ejemplos sencillos para cada uno:\n"
   ]
  },
  {
   "cell_type": "markdown",
   "id": "f1848f33",
   "metadata": {},
   "source": [
    "<details>\n",
    "<summary>&emsp;&emsp;&emsp;<b>Click <span style=\"color:red;\">aquí</span><b> para ver los ejemplos</b></summary>\n",
    "    \n",
    "`^` : Coincide con el inicio de una cadena.\n",
    "\n",
    "**&nbsp;&nbsp;&nbsp;&nbsp;$Ejemplo:$** ^Hola coincidiría con \"Hola, ¿cómo estás?\" pero no con \"¿Hola, cómo estás?\", ya que el inicio de esta cadena es “¿” .\n",
    "\n",
    "`$` : Coincide con el final de una cadena.\n",
    "\n",
    "**&nbsp;&nbsp;&nbsp;&nbsp;$Ejemplo:$** mundo$ coincidiría con \"Hola mundo\" pero no con \"¡Hola mundo, cómo estás?\", ya que “mundo” no está al final.\n",
    "\n",
    "\n",
    "`.` : Coincide con cualquier carácter, excepto una nueva línea.\n",
    "\n",
    "**&nbsp;&nbsp;&nbsp;&nbsp;$Ejemplo:$** a.c coincidiría con \"abc\", \"adc\", \"axc\", etc., pero no con \"ac\" ni \"a\\n\\nc\".\n",
    "    \n",
    "`*` : Coincide con cero o más repeticiones del elemento anterior.\n",
    "\n",
    "**&nbsp;&nbsp;&nbsp;&nbsp;$Ejemplo:$** a*b coincidiría con \"b\", \"ab\", \"aab\", \"aaab\", etc.\n",
    "    \n",
    "`?`: Coincide con cero o una repetición del elemento anterior.\n",
    "\n",
    "**&nbsp;&nbsp;&nbsp;&nbsp;$Ejemplo:$** colou?r coincidiría con \"color\" y \"colour\"; ya que la “u” puede aparecer cero veces o una vez.\n",
    "        \n",
    "`\\`: Utilizado para escapar caracteres especiales como: !, “, #, $,  y tratarlos literalmente.\n",
    "\n",
    "**&nbsp;&nbsp;&nbsp;&nbsp;$Ejemplo:$** \\. coincidiría con un punto literal \".\", en lugar de usar su significado especial de coincidir con cualquier carácter.\n",
    "\n",
    "`[]`: Coincide con cualquier carácter y espacio dentro de los corchetes.\n",
    "\n",
    "**&nbsp;&nbsp;&nbsp;&nbsp;$Ejemplo:$** [aeiou] coincidiría con cualquier vocal.\n",
    "\n",
    "`[^]`: Coincide con cualquier carácter que no esté dentro de los corchetes.\n",
    "\n",
    "**&nbsp;&nbsp;&nbsp;&nbsp;$Ejemplo:$** [^0-9] coincidiría con cualquier carácter que no sea un dígito.\n",
    "\n",
    "`()`: Crea un grupo de captura o establece límites para una alternativa.\n",
    "\n",
    "**&nbsp;&nbsp;&nbsp;&nbsp;$Ejemplo:$** (ab)+ coincidiría con \"ab\", \"abab\", \"ababab\", etc.\n",
    "\n",
    "</details>"
   ]
  },
  {
   "cell_type": "markdown",
   "id": "813b91eb",
   "metadata": {},
   "source": [
    "Estos son solo algunos de los signos más comunes en las expresiones regulares. Recuerda que la sintaxis y el comportamiento pueden variar dependiendo del lenguaje o herramienta que estés utilizando, por lo que es recomendable consultar la documentación correspondiente para obtener información más detallada.\n"
   ]
  },
  {
   "cell_type": "markdown",
   "id": "1f9d3115",
   "metadata": {},
   "source": [
    "## <span style=\"color:#1557D1;\">Guía para realizar prompts efectivos para expresiones regulares</span><b>\n",
    "\n",
    "En el contexto de la inteligencia artificial, el “prompting” es una técnica utilizada para guiar el comportamiento de los modelos de lenguaje, como los modelos de lenguaje largo (MLL).\n",
    "Implica proporcionar instrucciones o indicaciones específicas al modelo para influir en su salida o respuesta. A continuación, se detallan los pasos para aprovechar al máximo la técnica de \"prompting\":\n"
   ]
  },
  {
   "cell_type": "markdown",
   "id": "e86c8304",
   "metadata": {},
   "source": [
    "<u><b>Paso 1:</b> Seleccionar un Modelo de Lenguaje</u>\n",
    "- Opta por un modelo de lenguaje avanzado, como GPT-3.5, para aprovechar su potencial en la generación de texto.\n",
    "\n",
    "<u><b>Paso 2:</b> Definir un Rol</u>\n",
    "- Describe de manera precisa y concisa la función que deseas que cumpla el modelo. Ejemplo:  “Quiero que actúes como generador de expresiones regulares. Tu función es generar expresiones regulares que coincidan con patrones específicos en el texto.”\n",
    "\n",
    "<u><b>Paso 3:</b> Crear el 'Prompt' Inicial</u>\n",
    "- Diseña un 'prompt' claro y específico que describa el tipo de expresión regular que necesitas. Proporciona ejemplos específicos que ilustren los tipos de cadenas que la expresión regular debería coincidir. Esto ayudará al modelo a comprender mejor los requisitos.\n",
    "\n",
    "<u><b>Paso 4:</b> Refinar y Ajustar</u>\n",
    "- Revisa la respuesta del modelo y, si es necesario, ajusta el 'prompt' para obtener resultados más precisos. Este proceso iterativo mejora la calidad de la expresión regular generada.\n",
    "\n",
    "<u><b>Paso 5:</b> Incorporar Limitaciones y Detalles</u>\n",
    "- Si es necesario, agrega detalles adicionales al 'prompt' para limitar el resultado. Por ejemplo, indica que la expresión regular debe evitar coincidir con ciertos patrones no deseados.\n",
    "\n",
    "<u><b>Paso 6:</b> Evaluar y Probar</u>\n",
    "- Después de recibir la expresión regular generada, evalúala con diferentes ejemplos para asegurarte de que cumple con tus requisitos. Realiza ajustes según sea necesario.\n",
    "\n",
    "<u><i><b>Opcional:</b> Documentación</i></u>\n",
    "\n",
    "- Documenta la expresión regular resultante para futuras referencias, incluyendo comentarios explicativos para que otros puedan entender su propósito y aplicación.\n"
   ]
  },
  {
   "cell_type": "markdown",
   "id": "b8264992",
   "metadata": {},
   "source": [
    "Con estos pasos, podemos aprovechar la capacidad de generación de texto de modelos de lenguaje avanzados para obtener expresiones regulares específicas y efectivas. Recuerda que la iteración y la prueba son fundamentales para perfeccionar el 'prompt' y lograr resultados precisos."
   ]
  },
  {
   "cell_type": "markdown",
   "id": "9e894e04",
   "metadata": {},
   "source": [
    "### <span style=\"color:#0E6C0A;\">Ejemplo de 'prompt' efectivo para generar una expresión regular que coincida con patrones de direcciones de correo electrónico:</span>\n",
    "\n",
    "<u><b>Paso 1:</b> Utilizar un modelo de lenguaje desarrollado por OpenAI.</u>\n",
    "- Está diseñada para generar respuestas completas y detalladas a las consultas de los usuarios. Su objetivo es proporcionar información útil y conversar de manera natural.\n",
    "\n",
    "<u><b>Paso 2:</b> Asignar el rol</u>\n",
    "\n",
    "<u><b>Paso 3:</b> Crear el 'Prompt' Inicial</u>   \n",
    "- Genera una expresión regular que coincida con patrones de direcciones de correo electrónico\n",
    "\n",
    "     &nbsp;&nbsp;&nbsp;&nbsp;<u>usuario@dominio.com</u>\n",
    "\n",
    "     &nbsp;&nbsp;&nbsp;&nbsp;<u>nombre.apellido@empresa.net</u>\n",
    "\n",
    "     &nbsp;&nbsp;&nbsp;&nbsp;<u>soporte@sitio.org</u>\n",
    "\n",
    "<u><b>Paso 4:</b> Refinar y ajustar</u>\n",
    "- Revisamos la respuesta del modelo y ajustamos el 'prompt' si es necesario. Recibimos la siguiente expresión regular:.\n",
    "\n",
    "     `^[a-zA-Z0-9._%+-]+@[a-zA-Z0-9.-]+\\.[a-zA-Z]{2,}$`\n",
    "\n",
    "<u><b>Paso 5:</b> Incorporar limitaciones y detalles</u>\n",
    "- Que no coincida con direcciones de correo electrónico que contengan la palabra 'spam'.\n",
    "\n",
    "- Los correos pueden estar en cualquier parte del texto\"\n",
    "\n",
    "     &nbsp;&nbsp;&nbsp;&nbsp;spam@dominio.com\n",
    "\n",
    "     &nbsp;&nbsp;&nbsp;&nbsp;hola ddfq455@gmail.com\n",
    "\n",
    "<u><i><b>Opcional:</b> Documentación</i></u>\n",
    "- Documentamos la expresión regular resultante con comentarios explicativos, como:\n",
    "\n",
    "```\n",
    "# Expresión regular para direcciones de correo electrónico\n",
    "# Patrón: usuario@dominio.com\n",
    "# No coincide si contiene la palabra 'spam'\n",
    "\\b(?!.*spam)[a-zA-Z0-9._%+-]+@[a-zA-Z0-9.-]+\\.[a-zA-Z]{2,}\\b\n",
    "\n",
    "```\n",
    "\n"
   ]
  },
  {
   "cell_type": "markdown",
   "id": "bf1bc981",
   "metadata": {},
   "source": [
    "### <span style=\"color:#0E6C0A;\">Ejemplo de ‘'prompt' efectivo para generar una expresión regular que coincida con patrones números telefónicos:\n",
    ":</span>"
   ]
  }
 ],
 "metadata": {
  "kernelspec": {
   "display_name": "Python 3 (ipykernel)",
   "language": "python",
   "name": "python3"
  },
  "language_info": {
   "codemirror_mode": {
    "name": "ipython",
    "version": 3
   },
   "file_extension": ".py",
   "mimetype": "text/x-python",
   "name": "python",
   "nbconvert_exporter": "python",
   "pygments_lexer": "ipython3",
   "version": "3.9.12"
  }
 },
 "nbformat": 4,
 "nbformat_minor": 5
}
